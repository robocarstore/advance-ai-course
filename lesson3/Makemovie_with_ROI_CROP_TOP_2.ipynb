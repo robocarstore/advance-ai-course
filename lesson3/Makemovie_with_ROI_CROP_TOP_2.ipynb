{
  "nbformat": 4,
  "nbformat_minor": 0,
  "metadata": {
    "colab": {
      "name": "Makemovie with ROI_CROP_TOP #1",
      "provenance": [],
      "collapsed_sections": [],
      "toc_visible": true,
      "include_colab_link": true
    },
    "kernelspec": {
      "name": "python3",
      "display_name": "Python 3"
    },
    "accelerator": "GPU"
  },
  "cells": [
    {
      "cell_type": "markdown",
      "metadata": {
        "id": "view-in-github",
        "colab_type": "text"
      },
      "source": [
        "<a href=\"https://colab.research.google.com/github/robocarstore/advance-ai-course/blob/master/lesson3/Makemovie_with_ROI_CROP_TOP_2.ipynb\" target=\"_parent\"><img src=\"https://colab.research.google.com/assets/colab-badge.svg\" alt=\"Open In Colab\"/></a>"
      ]
    },
    {
      "cell_type": "markdown",
      "metadata": {
        "id": "HWo_ZoPPh0k7",
        "colab_type": "text"
      },
      "source": [
        "# Robocar\n",
        "# Advance AI Self driving course\n",
        "##Lesson 3 - Attempt #1 Makemovie with ROI_CROP_TOP\n"
      ]
    },
    {
      "cell_type": "markdown",
      "metadata": {
        "id": "dXJb9i2GtP5Z",
        "colab_type": "text"
      },
      "source": [
        "### Install donkeycar"
      ]
    },
    {
      "cell_type": "code",
      "metadata": {
        "id": "r3FTldc9iCSC",
        "colab_type": "code",
        "colab": {}
      },
      "source": [
        "!git clone https://github.com/autorope/donkeycar.git \n",
        "%cd /content/donkeycar\n",
        "\n",
        "!git checkout master\n",
        "\n",
        "!pip3 install -e .[pc]\n",
        "\n",
        "!donkey createcar --path /content/mycar\n",
        "\n",
        "%cd /content/mycar/data\n",
        "!wget https://github.com/robocarstore/advance-ai-course/raw/master/lesson2/tub_49_19-12-10.tar.gz\n",
        "!tar -xzf tub_49_19-12-10.tar.gz \n",
        "\n",
        "%cd /content/mycar/models\n",
        "!wget https://github.com/robocarstore/advance-ai-course/raw/master/lesson2/49_crop_0.h5\n",
        "\n",
        "!pip uninstall keras-vis\n",
        "!pip install git+https://github.com/sctse999/keras-vis\n"
      ],
      "execution_count": 0,
      "outputs": []
    },
    {
      "cell_type": "markdown",
      "metadata": {
        "id": "7GEip7Vbta7W",
        "colab_type": "text"
      },
      "source": [
        "### Makemovie\n",
        "\n",
        "Notice that we have set the ROI_CROP_TOP to 40"
      ]
    },
    {
      "cell_type": "code",
      "metadata": {
        "id": "UtKwX03rtblt",
        "colab_type": "code",
        "colab": {}
      },
      "source": [
        "%cd /content/mycar\n",
        "!echo \"ROI_CROP_TOP = 40\" >> myconfig.py\n",
        "!donkey makemovie --tub data/tub_49_19-12-10 --model models/49_crop_0.h5 --type linear --salient\n",
        "\n"
      ],
      "execution_count": 0,
      "outputs": []
    },
    {
      "cell_type": "markdown",
      "metadata": {
        "id": "zWiLNUXpuLq4",
        "colab_type": "text"
      },
      "source": [
        "### Does it work?\n",
        "\n",
        "Does the above code snippet works? If not, why?"
      ]
    }
  ]
}